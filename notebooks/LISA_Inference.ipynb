{
  "metadata": {
    "kernelspec": {
      "display_name": "Python 3",
      "name": "python3"
    },
    "language_info": {
      "pygments_lexer": "ipython3",
      "nbconvert_exporter": "python",
      "version": "3.6.4",
      "file_extension": ".py",
      "codemirror_mode": {
        "name": "ipython",
        "version": 3
      },
      "name": "python",
      "mimetype": "text/x-python"
    },
    "kaggle": {
      "accelerator": "nvidiaTeslaT4",
      "dataSources": [],
      "isInternetEnabled": true,
      "language": "python",
      "sourceType": "notebook",
      "isGpuEnabled": true
    },
    "colab": {
      "name": "LISA Inference",
      "provenance": [],
      "gpuType": "T4",
      "include_colab_link": true
    },
    "accelerator": "GPU"
  },
  "nbformat_minor": 0,
  "nbformat": 4,
  "cells": [
    {
      "cell_type": "markdown",
      "metadata": {
        "id": "view-in-github",
        "colab_type": "text"
      },
      "source": [
        "<a href=\"https://colab.research.google.com/github/anarghya15/notebooks/blob/main/notebooks/LISA_Inference.ipynb\" target=\"_parent\"><img src=\"https://colab.research.google.com/assets/colab-badge.svg\" alt=\"Open In Colab\"/></a>"
      ]
    },
    {
      "cell_type": "code",
      "source": [
        "import os\n",
        "HOME = os.getcwd()\n",
        "print(\"HOME:\", HOME)"
      ],
      "metadata": {
        "trusted": true,
        "id": "KMsAQILhARHX",
        "outputId": "1e693056-4f0c-45c4-d120-ef8c4b6426da",
        "colab": {
          "base_uri": "https://localhost:8080/"
        }
      },
      "outputs": [
        {
          "output_type": "stream",
          "name": "stdout",
          "text": [
            "HOME: /content\n"
          ]
        }
      ],
      "execution_count": 1
    },
    {
      "cell_type": "code",
      "source": [
        "%cd {HOME}\n",
        "!git clone https://github.com/dvlab-research/LISA.git"
      ],
      "metadata": {
        "trusted": true,
        "id": "bXpr5sqrARHZ",
        "outputId": "9cd02511-7597-431c-b0c4-766798f65546",
        "colab": {
          "base_uri": "https://localhost:8080/"
        }
      },
      "outputs": [
        {
          "output_type": "stream",
          "name": "stdout",
          "text": [
            "/content\n",
            "Cloning into 'LISA'...\n",
            "remote: Enumerating objects: 833, done.\u001b[K\n",
            "remote: Counting objects: 100% (299/299), done.\u001b[K\n",
            "remote: Compressing objects: 100% (116/116), done.\u001b[K\n",
            "remote: Total 833 (delta 235), reused 220 (delta 182), pack-reused 534 (from 1)\u001b[K\n",
            "Receiving objects: 100% (833/833), 29.66 MiB | 19.16 MiB/s, done.\n",
            "Resolving deltas: 100% (423/423), done.\n"
          ]
        }
      ],
      "execution_count": 2
    },
    {
      "cell_type": "code",
      "source": [
        "%cd {HOME}/LISA\n",
        "!python chat.py --version='xinlai/LISA-13B-llama2-v1' --precision='fp16' --load_in_4bit"
      ],
      "metadata": {
        "trusted": true,
        "id": "WHR49HwxARHZ"
      },
      "outputs": [],
      "execution_count": null
    }
  ]
}