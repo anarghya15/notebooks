{
  "metadata": {
    "kernelspec": {
      "display_name": "Python 3",
      "name": "python3"
    },
    "language_info": {
      "name": "python",
      "version": "3.10.12",
      "mimetype": "text/x-python",
      "codemirror_mode": {
        "name": "ipython",
        "version": 3
      },
      "pygments_lexer": "ipython3",
      "nbconvert_exporter": "python",
      "file_extension": ".py"
    },
    "kaggle": {
      "accelerator": "none",
      "dataSources": [],
      "dockerImageVersionId": 30918,
      "isInternetEnabled": true,
      "language": "python",
      "sourceType": "notebook",
      "isGpuEnabled": false
    },
    "colab": {
      "name": "lang-segment-anything inference",
      "provenance": [],
      "gpuType": "T4",
      "include_colab_link": true
    },
    "accelerator": "GPU"
  },
  "nbformat_minor": 0,
  "nbformat": 4,
  "cells": [
    {
      "cell_type": "markdown",
      "metadata": {
        "id": "view-in-github",
        "colab_type": "text"
      },
      "source": [
        "<a href=\"https://colab.research.google.com/github/anarghya15/notebooks/blob/main/notebooks/lang_segment_anything_inference.ipynb\" target=\"_parent\"><img src=\"https://colab.research.google.com/assets/colab-badge.svg\" alt=\"Open In Colab\"/></a>"
      ]
    },
    {
      "cell_type": "code",
      "source": [
        "!git clone https://github.com/luca-medeiros/lang-segment-anything.git"
      ],
      "metadata": {
        "trusted": true,
        "execution": {
          "iopub.status.busy": "2025-03-05T09:21:42.04202Z",
          "iopub.execute_input": "2025-03-05T09:21:42.042327Z",
          "iopub.status.idle": "2025-03-05T09:21:44.922374Z",
          "shell.execute_reply.started": "2025-03-05T09:21:42.042303Z",
          "shell.execute_reply": "2025-03-05T09:21:44.921189Z"
        },
        "id": "ZXo-Y-yPnhQK",
        "outputId": "2637fcad-9c7d-4db5-b99c-ab4de9e69d4e"
      },
      "outputs": [
        {
          "name": "stdout",
          "text": "Cloning into 'lang-segment-anything'...\nremote: Enumerating objects: 411, done.\u001b[K\nremote: Counting objects: 100% (180/180), done.\u001b[K\nremote: Compressing objects: 100% (81/81), done.\u001b[K\nremote: Total 411 (delta 128), reused 99 (delta 99), pack-reused 231 (from 2)\u001b[K\nReceiving objects: 100% (411/411), 27.69 MiB | 18.91 MiB/s, done.\nResolving deltas: 100% (187/187), done.\n",
          "output_type": "stream"
        }
      ],
      "execution_count": null
    },
    {
      "cell_type": "code",
      "source": [
        "%cd /kaggle/working/lang-segment-anything"
      ],
      "metadata": {
        "trusted": true,
        "id": "wnZzkHlknhQO"
      },
      "outputs": [],
      "execution_count": null
    },
    {
      "cell_type": "code",
      "source": [
        "!pip install -e ."
      ],
      "metadata": {
        "trusted": true,
        "id": "XOp-61OjnhQP"
      },
      "outputs": [],
      "execution_count": null
    },
    {
      "cell_type": "code",
      "source": [
        "docker build --tag lang-segment-anything:latest .\n",
        "docker run --gpus all -p 8000:8000 lang-segment-anything:latest"
      ],
      "metadata": {
        "trusted": true,
        "id": "oQfT42V1nhQP"
      },
      "outputs": [],
      "execution_count": null
    }
  ]
}